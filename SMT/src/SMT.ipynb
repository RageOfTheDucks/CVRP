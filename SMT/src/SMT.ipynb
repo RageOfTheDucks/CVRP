{
 "cells": [
  {
   "cell_type": "code",
   "execution_count": 1,
   "id": "70b63f3e",
   "metadata": {},
   "outputs": [],
   "source": [
    "from z3 import *\n",
    "import numpy as np\n",
    "import re\n",
    "import time\n",
    "import os"
   ]
  },
  {
   "cell_type": "code",
   "execution_count": 2,
   "id": "79ab174e",
   "metadata": {},
   "outputs": [
    {
     "name": "stdout",
     "output_type": "stream",
     "text": [
      "m 3\n",
      "n 7\n",
      "capacities [15, 10, 7]\n",
      "weights [3, 2, 6, 8, 5, 4, 4]\n"
     ]
    }
   ],
   "source": [
    "# -------READ DATA FROM FILE-----\n",
    "# Read instance and extract data\n",
    "lines = []\n",
    "instance_name = 'pdf' #INSERT INSTANCE NAME HERE\n",
    "with open(f\"../in/{instance_name}.dzn\") as f: \n",
    "    for line in f:\n",
    "        line = re.sub(\"[^0123456789\\.\\ -]\",\"\",line)\n",
    "        line = line.strip()\n",
    "        lines.append(line)\n",
    "# line 1: m\n",
    "m = int(lines[0])\n",
    "n = int(lines[1])\n",
    "l = [int(s) for s in lines[2].split()]\n",
    "w = [int(s) for s in lines[3].split()]\n",
    "x = [int(s) for s in lines[4].split()]\n",
    "y = [int(s) for s in lines[5].split()]\n",
    "\n",
    "print('m', m)\n",
    "print('n', n)\n",
    "print('capacities', l)\n",
    "print('weights', w)\n",
    "\n",
    "lines = []"
   ]
  },
  {
   "cell_type": "code",
   "execution_count": 3,
   "id": "4d9b4681",
   "metadata": {},
   "outputs": [
    {
     "name": "stdout",
     "output_type": "stream",
     "text": [
      "[[0 2 3 3 4 3 4 4]\n",
      " [2 0 3 3 6 5 6 6]\n",
      " [3 3 0 4 3 4 7 7]\n",
      " [3 3 4 0 7 6 3 5]\n",
      " [4 6 3 7 0 3 6 6]\n",
      " [3 5 4 6 3 0 3 3]\n",
      " [4 6 7 3 6 3 0 2]\n",
      " [4 6 7 5 6 3 2 0]]\n"
     ]
    }
   ],
   "source": [
    "# --------- FUNCTIONS ---------\n",
    "\n",
    "x = x[-1:] + x[:-1]\n",
    "y = y[-1:] + y[:-1]\n",
    " \n",
    "def manhattan_distance(x1, y1, x2, y2):\n",
    "    distance = 0\n",
    "    absX = abs(x2 - x1)\n",
    "    absY = abs(y2 - y1)\n",
    "    distance = absX + absY\n",
    "    return distance\n",
    " \n",
    "def create_distance_matrix(listX, listY):\n",
    "    distance_matrix = np.zeros( (len(listX), len(listX)) )\n",
    "    for i in range(len(listX)):\n",
    "        for j in range(len(listX)):\n",
    "            distance_matrix[i, j] = manhattan_distance(listX[i], listY[i], listX[j], listY[j])\n",
    " \n",
    "    return distance_matrix.astype('int').tolist()\n",
    " \n",
    "# --------- VARIABLES ---------\n",
    " \n",
    "distance_matrix = create_distance_matrix(x, y)\n",
    "print(np.array(distance_matrix))"
   ]
  },
  {
   "cell_type": "code",
   "execution_count": 4,
   "id": "4e4ec23c",
   "metadata": {},
   "outputs": [],
   "source": [
    "V = n+2*m\n",
    "#F_start = n+1\n",
    "#F_end = n+m\n",
    "#L_start = n+m+1\n",
    "#L_end = n+2*m\n",
    "\n",
    "F_start = n\n",
    "F_end = n+m-1\n",
    "L_start = n+m\n",
    "L_end = n+2*m-1"
   ]
  },
  {
   "cell_type": "code",
   "execution_count": 5,
   "id": "2c6340b7",
   "metadata": {},
   "outputs": [
    {
     "name": "stdout",
     "output_type": "stream",
     "text": [
      "Model created.\n"
     ]
    }
   ],
   "source": [
    "solver = Solver()\n",
    "#solver = Optimize()\n",
    "solver.set(\"sat.local_search_threads\", 16)\n",
    "c = Int(\"c\")\n",
    "Z = IntSort()\n",
    "capacities = IntVector(\"capacities\", m)\n",
    "weights = IntVector(\"weights\", n)\n",
    "distance_matrix_sort = [[None for _ in  range(n+1)] for _ in range(n+1)]\n",
    "for i in range(n+1):\n",
    "    for j in range(n+1):\n",
    "        distance_matrix_sort[i][j] = Int(f\"distance_matrix_{i}_{j}\")\n",
    "        solver.add(distance_matrix_sort[i][j] == distance_matrix[i][j])\n",
    "for i in range(m):\n",
    "    solver.add(capacities[i] == l[i])\n",
    "for i in range(n):\n",
    "    solver.add(weights[i] == w[i])\n",
    "    \n",
    "# VARIABLES\n",
    "#array[V] of var V: p; %predecessor array\n",
    "#array[V] of var V: s; %successor array\n",
    "#array[V] of var COURIERS: v; %vehicle array\n",
    "#array[V] of var 0..max(capacities): weights; %quantity array\n",
    "\n",
    "p = IntVector(\"p\", V)\n",
    "s = IntVector(\"s\", V)\n",
    "v = IntVector(\"v\", V)\n",
    "#bins = IntVector(\"bins\", n)\n",
    "q = IntVector(\"q\", V)\n",
    "\n",
    "for i in range(V):\n",
    "    solver.add(And(p[i] <V, p[i] >= 0 ))\n",
    "    solver.add(And(s[i] <V, s[i] >= 0 ))\n",
    "    solver.add(And(v[i] <m, v[i] >= 0 ))\n",
    "    solver.add(And(q[i] <max(l), q[i] >= 0 ))\n",
    "    \n",
    "for k in range(m):\n",
    "    solver.add(p[n+k] == n+m+k)\n",
    "\n",
    "solver.add(Distinct(p))\n",
    "solver.add(Distinct(s))\n",
    "\n",
    "for i in range(V):\n",
    "    for x in range(V):\n",
    "        if((i < F_start or i > F_end) and (x < F_start or x > F_end)):\n",
    "            solver.add(Implies(p[i] == x, s[x] == i))        #constraint forall (i in V diff F) (s[p[i]]=i);\n",
    "            solver.add(Implies(p[i] == x, v[i] == v[x]))     #constraint forall (i in V diff F) (v[i] == v[p[i]]);\n",
    "    for x in range(V):\n",
    "        if((i < L_start) and (x < L_start)):\n",
    "            solver.add(Implies(s[i] == x, p[x]==i))          #constraint forall (i in V diff L) (p[s[i]]=i);\n",
    "            solver.add(Implies(s[i] == x, v[i] == v[x]))     #constraint forall (i in V diff L) (v[i] == v[s[i]]);\n",
    "\n",
    "# constraint for same vehicle for each courier\n",
    "for k in range(m):\n",
    "    solver.add(And(v[n+k] == v[n+m+k], v[n+m+k]==k))\n",
    "\n",
    "# circuit constraint\n",
    "order = IntVector(\"order\", V)\n",
    "solver.add(order[0]==n)\n",
    "solver.add(Distinct(order))\n",
    "for i in range(V):\n",
    "    solver.add(And(order[i] <V, order[i] >= 0 ))\n",
    "    solver.add(s[i]!=i)\n",
    "    for j in range(V):\n",
    "        solver.add(Implies(And(s[i] == j, order[i] != V-1), order[j] == order[i]+1))\n",
    "    solver.add(Implies(order[i] == V-1, s[i] == n))\n",
    "\n",
    "\n",
    "# bin packing\n",
    "for k in range(m):\n",
    "    res = Int(f\"load_{k}\")\n",
    "    solver.add(res == Sum([If(v[i] == k, weights[i], 0) for i in range(n)]))\n",
    "    solver.add(res <= capacities[k])\n",
    "\n",
    "total_distance = Int(\"total_distance\")\n",
    "solver.add(total_distance == Sum([If(And(Or(i<n,i>n+m-1),j == p[i]), distance_matrix_sort[0 if i>=n else i+1][0 if j>=n else j+1], 0) for i in range(V) for j in range(V)]))\n",
    "\n",
    "solver.add(total_distance >= int(2*np.matrix(distance_matrix).max()))\n",
    "            \n",
    "#solver.add(Sum(res) == total_distance)\n",
    "print(\"Model created.\")\n",
    "#solver.minimize(total_distance)\n",
    "#print(solver.check())\n",
    "#model = solver.model()"
   ]
  },
  {
   "cell_type": "code",
   "execution_count": 6,
   "id": "21c37499",
   "metadata": {},
   "outputs": [],
   "source": [
    "def get_tour_rec(p, last_i, curr_i):\n",
    "    if last_i == curr_i:\n",
    "        return []\n",
    "    else:\n",
    "        el = curr_i\n",
    "        if curr_i > n:\n",
    "            el = -1\n",
    "        return [el+1] + get_tour_rec(p, last_i, p[curr_i])\n",
    "\n",
    "def get_tour(p, last_i):\n",
    "    return get_tour_rec(p, last_i, p[last_i]) + [0]"
   ]
  },
  {
   "cell_type": "code",
   "execution_count": 7,
   "id": "599c4edb",
   "metadata": {},
   "outputs": [
    {
     "name": "stdout",
     "output_type": "stream",
     "text": [
      "0 1000000 0\n",
      "tot_d 38\n",
      "\n",
      "0 38 19\n",
      "20.0 38 19\n",
      "30.0 38 29\n",
      "35.0 38 34\n",
      "37.5 38 37\n",
      "tot_d 34\n",
      "\n"
     ]
    }
   ],
   "source": [
    "l = 0\n",
    "r = 1000000\n",
    "mid = 0\n",
    "while l<=r:\n",
    "    print(l,r, int(np.ceil(mid)))\n",
    "    mid = l + (r-l)/2\n",
    "    if str(solver.check())=='sat':\n",
    "        model = solver.model()\n",
    "        r = int(str(model.evaluate(total_distance)))\n",
    "        mid = l + (r-l)/2\n",
    "        \n",
    "        # output formatting\n",
    "        res_tour = []\n",
    "        p_tour = []\n",
    "        for i in range(V):\n",
    "            visit = int(str(model.evaluate(p[i])))\n",
    "            p_tour.append(visit)\n",
    "        for k in range(m):\n",
    "            res_tour.append(get_tour(p_tour, n+k))\n",
    "        print('tot_d', r, end='\\n\\n')\n",
    "        #write best solution so far to output txt file\n",
    "        with open(\"../out/\" + instance_name + '_out.txt', 'a') as f:\n",
    "            f.write(str(r) + ' ')\n",
    "            f.write(str(res_tour) + '\\n\\n')\n",
    "\n",
    "        # resume search\n",
    "        solver.push()\n",
    "        solver.add(total_distance < int(np.ceil(mid)))\n",
    "    else:\n",
    "        solver.pop()\n",
    "        solver.push()\n",
    "        l = mid+1\n",
    "        solver.add(total_distance < int(np.ceil(mid)))\n",
    "\n"
   ]
  },
  {
   "cell_type": "code",
   "execution_count": 8,
   "id": "89bcc8b7",
   "metadata": {},
   "outputs": [
    {
     "name": "stdout",
     "output_type": "stream",
     "text": [
      "p index = [0, 1, 2, 3, 4, 5, 6, 7, 8, 9, 10, 11, 12]\n",
      "p_array = [6, 8, 7, 1, 5, 2, 9, 10, 11, 12, 4, 3, 0]\n",
      "s_array = [12, 3, 5, 11, 10, 4, 0, 2, 1, 6, 9, 7, 8]\n",
      "[[0, 5, 6, 3, 0], [0, 4, 2, 0], [0, 1, 7, 0]]\n",
      "34\n"
     ]
    }
   ],
   "source": [
    "p_tour = []\n",
    "s_tour = []\n",
    "for i in range(V):\n",
    "    visit = int(str(model.evaluate(p[i])))\n",
    "    p_tour.append(visit)\n",
    "    visit = int(str(model.evaluate(s[i])))\n",
    "    s_tour.append(visit)\n",
    "print('p index =', [i for i in range(0, len(p_tour))])\n",
    "print('p_array =', p_tour)\n",
    "print('s_array =', s_tour)\n",
    "res_tour = []\n",
    "for k in range(m):\n",
    "    res_tour.append(get_tour(p_tour, n+k))\n",
    "\n",
    "print(res_tour)\n",
    "res_total_distance = model.evaluate(total_distance)\n",
    "print(res_total_distance)\n",
    "\n",
    "\n",
    "#print(solver.statistics()) "
   ]
  },
  {
   "cell_type": "code",
   "execution_count": 9,
   "id": "06968467",
   "metadata": {},
   "outputs": [],
   "source": [
    "### to solver independent language\n",
    "\n",
    "def toSMT2(f, status=\"unknown\", name=\"smt2\", logic=\"\"):\n",
    "  v = (Ast * 0)()\n",
    "  if isinstance(f, Solver):\n",
    "    a = f.assertions()\n",
    "    if len(a) == 0:\n",
    "      f = BoolVal(True)\n",
    "    else:\n",
    "      f = And(*a)\n",
    "  return Z3_benchmark_to_smtlib_string(f.ctx_ref(), name, logic, status, \"\", 0, v, f.as_ast())\n",
    "\n",
    "if False:\n",
    "  solv_indep_code = toSMT2(solver, name=instance_name)\n",
    "  smt_out_path = f'./smtlib_code/{instance_name}.smt2'\n",
    "  with open(smt_out_path, 'a') as smt_out:\n",
    "      smt_out.write(solv_indep_code)\n",
    "      print(f'smtlib2 code written to file {smt_out_path}')"
   ]
  }
 ],
 "metadata": {
  "kernelspec": {
   "display_name": "Python 3",
   "language": "python",
   "name": "python3"
  },
  "language_info": {
   "codemirror_mode": {
    "name": "ipython",
    "version": 3
   },
   "file_extension": ".py",
   "mimetype": "text/x-python",
   "name": "python",
   "nbconvert_exporter": "python",
   "pygments_lexer": "ipython3",
   "version": "3.9.5"
  },
  "vscode": {
   "interpreter": {
    "hash": "88279d2366fe020547cde40dd65aa0e3aa662a6ec1f3ca12d88834876c85e1a6"
   }
  }
 },
 "nbformat": 4,
 "nbformat_minor": 5
}
